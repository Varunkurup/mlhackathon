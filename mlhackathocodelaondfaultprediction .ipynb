{
 "cells": [
  {
   "cell_type": "code",
   "execution_count": 48,
   "metadata": {},
   "outputs": [],
   "source": [
    "import pandas as pd\n",
    "import numpy as np \n",
    "from sklearn import preprocessing "
   ]
  },
  {
   "cell_type": "code",
   "execution_count": 49,
   "metadata": {},
   "outputs": [
    {
     "name": "stderr",
     "output_type": "stream",
     "text": [
      "Using TensorFlow backend.\n"
     ]
    }
   ],
   "source": [
    "from keras.preprocessing.text import Tokenizer\n",
    "from keras.preprocessing.sequence import pad_sequences\n",
    "from keras.models import Sequential\n",
    "from keras.layers import Dense, Embedding, LSTM, SpatialDropout1D"
   ]
  },
  {
   "cell_type": "code",
   "execution_count": 50,
   "metadata": {},
   "outputs": [],
   "source": [
    "loan_train=pd.read_csv(r'C:\\Users\\Varun Kurup\\m001\\train.csv',index_col='interest_rate')"
   ]
  },
  {
   "cell_type": "code",
   "execution_count": 51,
   "metadata": {},
   "outputs": [
    {
     "data": {
      "text/html": [
       "<div>\n",
       "<style scoped>\n",
       "    .dataframe tbody tr th:only-of-type {\n",
       "        vertical-align: middle;\n",
       "    }\n",
       "\n",
       "    .dataframe tbody tr th {\n",
       "        vertical-align: top;\n",
       "    }\n",
       "\n",
       "    .dataframe thead th {\n",
       "        text-align: right;\n",
       "    }\n",
       "</style>\n",
       "<table border=\"1\" class=\"dataframe\">\n",
       "  <thead>\n",
       "    <tr style=\"text-align: right;\">\n",
       "      <th></th>\n",
       "      <th>loan_id</th>\n",
       "      <th>source</th>\n",
       "      <th>financial_institution</th>\n",
       "      <th>unpaid_principal_bal</th>\n",
       "      <th>loan_term</th>\n",
       "      <th>origination_date</th>\n",
       "      <th>first_payment_date</th>\n",
       "      <th>loan_to_value</th>\n",
       "      <th>number_of_borrowers</th>\n",
       "      <th>debt_to_income_ratio</th>\n",
       "      <th>...</th>\n",
       "      <th>m4</th>\n",
       "      <th>m5</th>\n",
       "      <th>m6</th>\n",
       "      <th>m7</th>\n",
       "      <th>m8</th>\n",
       "      <th>m9</th>\n",
       "      <th>m10</th>\n",
       "      <th>m11</th>\n",
       "      <th>m12</th>\n",
       "      <th>m13</th>\n",
       "    </tr>\n",
       "    <tr>\n",
       "      <th>interest_rate</th>\n",
       "      <th></th>\n",
       "      <th></th>\n",
       "      <th></th>\n",
       "      <th></th>\n",
       "      <th></th>\n",
       "      <th></th>\n",
       "      <th></th>\n",
       "      <th></th>\n",
       "      <th></th>\n",
       "      <th></th>\n",
       "      <th></th>\n",
       "      <th></th>\n",
       "      <th></th>\n",
       "      <th></th>\n",
       "      <th></th>\n",
       "      <th></th>\n",
       "      <th></th>\n",
       "      <th></th>\n",
       "      <th></th>\n",
       "      <th></th>\n",
       "      <th></th>\n",
       "    </tr>\n",
       "  </thead>\n",
       "  <tbody>\n",
       "    <tr>\n",
       "      <th>4.250</th>\n",
       "      <td>268055008619</td>\n",
       "      <td>Z</td>\n",
       "      <td>Turner, Baldwin and Rhodes</td>\n",
       "      <td>214000</td>\n",
       "      <td>360</td>\n",
       "      <td>2012-03-01</td>\n",
       "      <td>05/2012</td>\n",
       "      <td>95</td>\n",
       "      <td>1.0</td>\n",
       "      <td>22.0</td>\n",
       "      <td>...</td>\n",
       "      <td>0</td>\n",
       "      <td>0</td>\n",
       "      <td>0</td>\n",
       "      <td>1</td>\n",
       "      <td>0</td>\n",
       "      <td>0</td>\n",
       "      <td>0</td>\n",
       "      <td>0</td>\n",
       "      <td>0</td>\n",
       "      <td>1</td>\n",
       "    </tr>\n",
       "    <tr>\n",
       "      <th>4.875</th>\n",
       "      <td>672831657627</td>\n",
       "      <td>Y</td>\n",
       "      <td>Swanson, Newton and Miller</td>\n",
       "      <td>144000</td>\n",
       "      <td>360</td>\n",
       "      <td>2012-01-01</td>\n",
       "      <td>03/2012</td>\n",
       "      <td>72</td>\n",
       "      <td>1.0</td>\n",
       "      <td>44.0</td>\n",
       "      <td>...</td>\n",
       "      <td>0</td>\n",
       "      <td>0</td>\n",
       "      <td>0</td>\n",
       "      <td>0</td>\n",
       "      <td>0</td>\n",
       "      <td>0</td>\n",
       "      <td>0</td>\n",
       "      <td>1</td>\n",
       "      <td>0</td>\n",
       "      <td>1</td>\n",
       "    </tr>\n",
       "    <tr>\n",
       "      <th>3.250</th>\n",
       "      <td>742515242108</td>\n",
       "      <td>Z</td>\n",
       "      <td>Thornton-Davis</td>\n",
       "      <td>366000</td>\n",
       "      <td>180</td>\n",
       "      <td>2012-01-01</td>\n",
       "      <td>03/2012</td>\n",
       "      <td>49</td>\n",
       "      <td>1.0</td>\n",
       "      <td>33.0</td>\n",
       "      <td>...</td>\n",
       "      <td>0</td>\n",
       "      <td>0</td>\n",
       "      <td>0</td>\n",
       "      <td>0</td>\n",
       "      <td>0</td>\n",
       "      <td>0</td>\n",
       "      <td>0</td>\n",
       "      <td>0</td>\n",
       "      <td>0</td>\n",
       "      <td>1</td>\n",
       "    </tr>\n",
       "    <tr>\n",
       "      <th>4.750</th>\n",
       "      <td>601385667462</td>\n",
       "      <td>X</td>\n",
       "      <td>OTHER</td>\n",
       "      <td>135000</td>\n",
       "      <td>360</td>\n",
       "      <td>2012-02-01</td>\n",
       "      <td>04/2012</td>\n",
       "      <td>46</td>\n",
       "      <td>2.0</td>\n",
       "      <td>44.0</td>\n",
       "      <td>...</td>\n",
       "      <td>0</td>\n",
       "      <td>0</td>\n",
       "      <td>0</td>\n",
       "      <td>0</td>\n",
       "      <td>0</td>\n",
       "      <td>1</td>\n",
       "      <td>1</td>\n",
       "      <td>1</td>\n",
       "      <td>1</td>\n",
       "      <td>1</td>\n",
       "    </tr>\n",
       "    <tr>\n",
       "      <th>4.750</th>\n",
       "      <td>273870029961</td>\n",
       "      <td>X</td>\n",
       "      <td>OTHER</td>\n",
       "      <td>124000</td>\n",
       "      <td>360</td>\n",
       "      <td>2012-02-01</td>\n",
       "      <td>04/2012</td>\n",
       "      <td>80</td>\n",
       "      <td>1.0</td>\n",
       "      <td>43.0</td>\n",
       "      <td>...</td>\n",
       "      <td>3</td>\n",
       "      <td>4</td>\n",
       "      <td>5</td>\n",
       "      <td>6</td>\n",
       "      <td>7</td>\n",
       "      <td>8</td>\n",
       "      <td>9</td>\n",
       "      <td>10</td>\n",
       "      <td>11</td>\n",
       "      <td>1</td>\n",
       "    </tr>\n",
       "  </tbody>\n",
       "</table>\n",
       "<p>5 rows × 28 columns</p>\n",
       "</div>"
      ],
      "text/plain": [
       "                    loan_id source       financial_institution  \\\n",
       "interest_rate                                                    \n",
       "4.250          268055008619      Z  Turner, Baldwin and Rhodes   \n",
       "4.875          672831657627      Y  Swanson, Newton and Miller   \n",
       "3.250          742515242108      Z              Thornton-Davis   \n",
       "4.750          601385667462      X                       OTHER   \n",
       "4.750          273870029961      X                       OTHER   \n",
       "\n",
       "               unpaid_principal_bal  loan_term origination_date  \\\n",
       "interest_rate                                                     \n",
       "4.250                        214000        360       2012-03-01   \n",
       "4.875                        144000        360       2012-01-01   \n",
       "3.250                        366000        180       2012-01-01   \n",
       "4.750                        135000        360       2012-02-01   \n",
       "4.750                        124000        360       2012-02-01   \n",
       "\n",
       "              first_payment_date  loan_to_value  number_of_borrowers  \\\n",
       "interest_rate                                                          \n",
       "4.250                    05/2012             95                  1.0   \n",
       "4.875                    03/2012             72                  1.0   \n",
       "3.250                    03/2012             49                  1.0   \n",
       "4.750                    04/2012             46                  2.0   \n",
       "4.750                    04/2012             80                  1.0   \n",
       "\n",
       "               debt_to_income_ratio  ...  m4 m5  m6  m7  m8  m9  m10  m11  \\\n",
       "interest_rate                        ...                                    \n",
       "4.250                          22.0  ...   0  0   0   1   0   0    0    0   \n",
       "4.875                          44.0  ...   0  0   0   0   0   0    0    1   \n",
       "3.250                          33.0  ...   0  0   0   0   0   0    0    0   \n",
       "4.750                          44.0  ...   0  0   0   0   0   1    1    1   \n",
       "4.750                          43.0  ...   3  4   5   6   7   8    9   10   \n",
       "\n",
       "               m12  m13  \n",
       "interest_rate            \n",
       "4.250            0    1  \n",
       "4.875            0    1  \n",
       "3.250            0    1  \n",
       "4.750            1    1  \n",
       "4.750           11    1  \n",
       "\n",
       "[5 rows x 28 columns]"
      ]
     },
     "execution_count": 51,
     "metadata": {},
     "output_type": "execute_result"
    }
   ],
   "source": [
    "loan_train.head()"
   ]
  },
  {
   "cell_type": "code",
   "execution_count": 52,
   "metadata": {},
   "outputs": [],
   "source": [
    "loan_train1=loan_train"
   ]
  },
  {
   "cell_type": "code",
   "execution_count": 53,
   "metadata": {},
   "outputs": [],
   "source": [
    "loan_train1.drop(['loan_id'],axis=1,inplace=True)\n",
    "loan_train1.drop(['source'],axis=1,inplace=True)\n",
    "loan_train1.drop(['financial_institution'],axis=1,inplace=True)\n",
    "loan_train1.drop(['first_payment_date'],axis=1,inplace=True)\n",
    "loan_train1.drop(['origination_date'],axis=1,inplace=True)"
   ]
  },
  {
   "cell_type": "code",
   "execution_count": 54,
   "metadata": {},
   "outputs": [],
   "source": [
    "y=loan_train['m13']"
   ]
  },
  {
   "cell_type": "code",
   "execution_count": 55,
   "metadata": {},
   "outputs": [],
   "source": [
    "loan_train1.drop(['m13'],axis=1,inplace=True)"
   ]
  },
  {
   "cell_type": "code",
   "execution_count": 56,
   "metadata": {},
   "outputs": [],
   "source": [
    "x=loan_train1"
   ]
  },
  {
   "cell_type": "code",
   "execution_count": 67,
   "metadata": {},
   "outputs": [
    {
     "ename": "ValueError",
     "evalue": "could not convert string to float: 'A23'",
     "output_type": "error",
     "traceback": [
      "\u001b[1;31m---------------------------------------------------------------------------\u001b[0m",
      "\u001b[1;31mValueError\u001b[0m                                Traceback (most recent call last)",
      "\u001b[1;32m<ipython-input-67-d02b8081955c>\u001b[0m in \u001b[0;36m<module>\u001b[1;34m\u001b[0m\n\u001b[1;32m----> 1\u001b[1;33m \u001b[0mx\u001b[0m\u001b[1;33m=\u001b[0m\u001b[0mpreprocessing\u001b[0m\u001b[1;33m.\u001b[0m\u001b[0mStandardScaler\u001b[0m\u001b[1;33m(\u001b[0m\u001b[1;33m)\u001b[0m\u001b[1;33m.\u001b[0m\u001b[0mfit\u001b[0m\u001b[1;33m(\u001b[0m\u001b[0mx\u001b[0m\u001b[1;33m)\u001b[0m\u001b[1;33m.\u001b[0m\u001b[0mtransform\u001b[0m\u001b[1;33m(\u001b[0m\u001b[0mx\u001b[0m\u001b[1;33m)\u001b[0m\u001b[1;33m\u001b[0m\u001b[1;33m\u001b[0m\u001b[0m\n\u001b[0m",
      "\u001b[1;32m~\\Anaconda3\\lib\\site-packages\\sklearn\\preprocessing\\data.py\u001b[0m in \u001b[0;36mfit\u001b[1;34m(self, X, y)\u001b[0m\n\u001b[0;32m    623\u001b[0m         \u001b[1;31m# Reset internal state before fitting\u001b[0m\u001b[1;33m\u001b[0m\u001b[1;33m\u001b[0m\u001b[1;33m\u001b[0m\u001b[0m\n\u001b[0;32m    624\u001b[0m         \u001b[0mself\u001b[0m\u001b[1;33m.\u001b[0m\u001b[0m_reset\u001b[0m\u001b[1;33m(\u001b[0m\u001b[1;33m)\u001b[0m\u001b[1;33m\u001b[0m\u001b[1;33m\u001b[0m\u001b[0m\n\u001b[1;32m--> 625\u001b[1;33m         \u001b[1;32mreturn\u001b[0m \u001b[0mself\u001b[0m\u001b[1;33m.\u001b[0m\u001b[0mpartial_fit\u001b[0m\u001b[1;33m(\u001b[0m\u001b[0mX\u001b[0m\u001b[1;33m,\u001b[0m \u001b[0my\u001b[0m\u001b[1;33m)\u001b[0m\u001b[1;33m\u001b[0m\u001b[1;33m\u001b[0m\u001b[0m\n\u001b[0m\u001b[0;32m    626\u001b[0m \u001b[1;33m\u001b[0m\u001b[0m\n\u001b[0;32m    627\u001b[0m     \u001b[1;32mdef\u001b[0m \u001b[0mpartial_fit\u001b[0m\u001b[1;33m(\u001b[0m\u001b[0mself\u001b[0m\u001b[1;33m,\u001b[0m \u001b[0mX\u001b[0m\u001b[1;33m,\u001b[0m \u001b[0my\u001b[0m\u001b[1;33m=\u001b[0m\u001b[1;32mNone\u001b[0m\u001b[1;33m)\u001b[0m\u001b[1;33m:\u001b[0m\u001b[1;33m\u001b[0m\u001b[1;33m\u001b[0m\u001b[0m\n",
      "\u001b[1;32m~\\Anaconda3\\lib\\site-packages\\sklearn\\preprocessing\\data.py\u001b[0m in \u001b[0;36mpartial_fit\u001b[1;34m(self, X, y)\u001b[0m\n\u001b[0;32m    647\u001b[0m         X = check_array(X, accept_sparse=('csr', 'csc'), copy=self.copy,\n\u001b[0;32m    648\u001b[0m                         \u001b[0mwarn_on_dtype\u001b[0m\u001b[1;33m=\u001b[0m\u001b[1;32mTrue\u001b[0m\u001b[1;33m,\u001b[0m \u001b[0mestimator\u001b[0m\u001b[1;33m=\u001b[0m\u001b[0mself\u001b[0m\u001b[1;33m,\u001b[0m \u001b[0mdtype\u001b[0m\u001b[1;33m=\u001b[0m\u001b[0mFLOAT_DTYPES\u001b[0m\u001b[1;33m,\u001b[0m\u001b[1;33m\u001b[0m\u001b[1;33m\u001b[0m\u001b[0m\n\u001b[1;32m--> 649\u001b[1;33m                         force_all_finite='allow-nan')\n\u001b[0m\u001b[0;32m    650\u001b[0m \u001b[1;33m\u001b[0m\u001b[0m\n\u001b[0;32m    651\u001b[0m         \u001b[1;31m# Even in the case of `with_mean=False`, we update the mean anyway\u001b[0m\u001b[1;33m\u001b[0m\u001b[1;33m\u001b[0m\u001b[1;33m\u001b[0m\u001b[0m\n",
      "\u001b[1;32m~\\Anaconda3\\lib\\site-packages\\sklearn\\utils\\validation.py\u001b[0m in \u001b[0;36mcheck_array\u001b[1;34m(array, accept_sparse, accept_large_sparse, dtype, order, copy, force_all_finite, ensure_2d, allow_nd, ensure_min_samples, ensure_min_features, warn_on_dtype, estimator)\u001b[0m\n\u001b[0;32m    525\u001b[0m             \u001b[1;32mtry\u001b[0m\u001b[1;33m:\u001b[0m\u001b[1;33m\u001b[0m\u001b[1;33m\u001b[0m\u001b[0m\n\u001b[0;32m    526\u001b[0m                 \u001b[0mwarnings\u001b[0m\u001b[1;33m.\u001b[0m\u001b[0msimplefilter\u001b[0m\u001b[1;33m(\u001b[0m\u001b[1;34m'error'\u001b[0m\u001b[1;33m,\u001b[0m \u001b[0mComplexWarning\u001b[0m\u001b[1;33m)\u001b[0m\u001b[1;33m\u001b[0m\u001b[1;33m\u001b[0m\u001b[0m\n\u001b[1;32m--> 527\u001b[1;33m                 \u001b[0marray\u001b[0m \u001b[1;33m=\u001b[0m \u001b[0mnp\u001b[0m\u001b[1;33m.\u001b[0m\u001b[0masarray\u001b[0m\u001b[1;33m(\u001b[0m\u001b[0marray\u001b[0m\u001b[1;33m,\u001b[0m \u001b[0mdtype\u001b[0m\u001b[1;33m=\u001b[0m\u001b[0mdtype\u001b[0m\u001b[1;33m,\u001b[0m \u001b[0morder\u001b[0m\u001b[1;33m=\u001b[0m\u001b[0morder\u001b[0m\u001b[1;33m)\u001b[0m\u001b[1;33m\u001b[0m\u001b[1;33m\u001b[0m\u001b[0m\n\u001b[0m\u001b[0;32m    528\u001b[0m             \u001b[1;32mexcept\u001b[0m \u001b[0mComplexWarning\u001b[0m\u001b[1;33m:\u001b[0m\u001b[1;33m\u001b[0m\u001b[1;33m\u001b[0m\u001b[0m\n\u001b[0;32m    529\u001b[0m                 raise ValueError(\"Complex data not supported\\n\"\n",
      "\u001b[1;32m~\\Anaconda3\\lib\\site-packages\\numpy\\core\\numeric.py\u001b[0m in \u001b[0;36masarray\u001b[1;34m(a, dtype, order)\u001b[0m\n\u001b[0;32m    499\u001b[0m \u001b[1;33m\u001b[0m\u001b[0m\n\u001b[0;32m    500\u001b[0m     \"\"\"\n\u001b[1;32m--> 501\u001b[1;33m     \u001b[1;32mreturn\u001b[0m \u001b[0marray\u001b[0m\u001b[1;33m(\u001b[0m\u001b[0ma\u001b[0m\u001b[1;33m,\u001b[0m \u001b[0mdtype\u001b[0m\u001b[1;33m,\u001b[0m \u001b[0mcopy\u001b[0m\u001b[1;33m=\u001b[0m\u001b[1;32mFalse\u001b[0m\u001b[1;33m,\u001b[0m \u001b[0morder\u001b[0m\u001b[1;33m=\u001b[0m\u001b[0morder\u001b[0m\u001b[1;33m)\u001b[0m\u001b[1;33m\u001b[0m\u001b[1;33m\u001b[0m\u001b[0m\n\u001b[0m\u001b[0;32m    502\u001b[0m \u001b[1;33m\u001b[0m\u001b[0m\n\u001b[0;32m    503\u001b[0m \u001b[1;33m\u001b[0m\u001b[0m\n",
      "\u001b[1;31mValueError\u001b[0m: could not convert string to float: 'A23'"
     ]
    }
   ],
   "source": [
    "x=preprocessing.StandardScaler().fit(x).transform(x)"
   ]
  },
  {
   "cell_type": "code",
   "execution_count": 57,
   "metadata": {},
   "outputs": [
    {
     "data": {
      "text/html": [
       "<div>\n",
       "<style scoped>\n",
       "    .dataframe tbody tr th:only-of-type {\n",
       "        vertical-align: middle;\n",
       "    }\n",
       "\n",
       "    .dataframe tbody tr th {\n",
       "        vertical-align: top;\n",
       "    }\n",
       "\n",
       "    .dataframe thead th {\n",
       "        text-align: right;\n",
       "    }\n",
       "</style>\n",
       "<table border=\"1\" class=\"dataframe\">\n",
       "  <thead>\n",
       "    <tr style=\"text-align: right;\">\n",
       "      <th></th>\n",
       "      <th>unpaid_principal_bal</th>\n",
       "      <th>loan_term</th>\n",
       "      <th>loan_to_value</th>\n",
       "      <th>number_of_borrowers</th>\n",
       "      <th>debt_to_income_ratio</th>\n",
       "      <th>borrower_credit_score</th>\n",
       "      <th>loan_purpose</th>\n",
       "      <th>insurance_percent</th>\n",
       "      <th>co-borrower_credit_score</th>\n",
       "      <th>insurance_type</th>\n",
       "      <th>...</th>\n",
       "      <th>m3</th>\n",
       "      <th>m4</th>\n",
       "      <th>m5</th>\n",
       "      <th>m6</th>\n",
       "      <th>m7</th>\n",
       "      <th>m8</th>\n",
       "      <th>m9</th>\n",
       "      <th>m10</th>\n",
       "      <th>m11</th>\n",
       "      <th>m12</th>\n",
       "    </tr>\n",
       "    <tr>\n",
       "      <th>interest_rate</th>\n",
       "      <th></th>\n",
       "      <th></th>\n",
       "      <th></th>\n",
       "      <th></th>\n",
       "      <th></th>\n",
       "      <th></th>\n",
       "      <th></th>\n",
       "      <th></th>\n",
       "      <th></th>\n",
       "      <th></th>\n",
       "      <th></th>\n",
       "      <th></th>\n",
       "      <th></th>\n",
       "      <th></th>\n",
       "      <th></th>\n",
       "      <th></th>\n",
       "      <th></th>\n",
       "      <th></th>\n",
       "      <th></th>\n",
       "      <th></th>\n",
       "      <th></th>\n",
       "    </tr>\n",
       "  </thead>\n",
       "  <tbody>\n",
       "    <tr>\n",
       "      <th>4.250</th>\n",
       "      <td>214000</td>\n",
       "      <td>360</td>\n",
       "      <td>95</td>\n",
       "      <td>1.0</td>\n",
       "      <td>22.0</td>\n",
       "      <td>694.0</td>\n",
       "      <td>C86</td>\n",
       "      <td>30.0</td>\n",
       "      <td>0.0</td>\n",
       "      <td>0.0</td>\n",
       "      <td>...</td>\n",
       "      <td>0</td>\n",
       "      <td>0</td>\n",
       "      <td>0</td>\n",
       "      <td>0</td>\n",
       "      <td>1</td>\n",
       "      <td>0</td>\n",
       "      <td>0</td>\n",
       "      <td>0</td>\n",
       "      <td>0</td>\n",
       "      <td>0</td>\n",
       "    </tr>\n",
       "    <tr>\n",
       "      <th>4.875</th>\n",
       "      <td>144000</td>\n",
       "      <td>360</td>\n",
       "      <td>72</td>\n",
       "      <td>1.0</td>\n",
       "      <td>44.0</td>\n",
       "      <td>697.0</td>\n",
       "      <td>B12</td>\n",
       "      <td>0.0</td>\n",
       "      <td>0.0</td>\n",
       "      <td>0.0</td>\n",
       "      <td>...</td>\n",
       "      <td>0</td>\n",
       "      <td>0</td>\n",
       "      <td>0</td>\n",
       "      <td>0</td>\n",
       "      <td>0</td>\n",
       "      <td>0</td>\n",
       "      <td>0</td>\n",
       "      <td>0</td>\n",
       "      <td>1</td>\n",
       "      <td>0</td>\n",
       "    </tr>\n",
       "    <tr>\n",
       "      <th>3.250</th>\n",
       "      <td>366000</td>\n",
       "      <td>180</td>\n",
       "      <td>49</td>\n",
       "      <td>1.0</td>\n",
       "      <td>33.0</td>\n",
       "      <td>780.0</td>\n",
       "      <td>B12</td>\n",
       "      <td>0.0</td>\n",
       "      <td>0.0</td>\n",
       "      <td>0.0</td>\n",
       "      <td>...</td>\n",
       "      <td>0</td>\n",
       "      <td>0</td>\n",
       "      <td>0</td>\n",
       "      <td>0</td>\n",
       "      <td>0</td>\n",
       "      <td>0</td>\n",
       "      <td>0</td>\n",
       "      <td>0</td>\n",
       "      <td>0</td>\n",
       "      <td>0</td>\n",
       "    </tr>\n",
       "    <tr>\n",
       "      <th>4.750</th>\n",
       "      <td>135000</td>\n",
       "      <td>360</td>\n",
       "      <td>46</td>\n",
       "      <td>2.0</td>\n",
       "      <td>44.0</td>\n",
       "      <td>633.0</td>\n",
       "      <td>B12</td>\n",
       "      <td>0.0</td>\n",
       "      <td>638.0</td>\n",
       "      <td>0.0</td>\n",
       "      <td>...</td>\n",
       "      <td>0</td>\n",
       "      <td>0</td>\n",
       "      <td>0</td>\n",
       "      <td>0</td>\n",
       "      <td>0</td>\n",
       "      <td>0</td>\n",
       "      <td>1</td>\n",
       "      <td>1</td>\n",
       "      <td>1</td>\n",
       "      <td>1</td>\n",
       "    </tr>\n",
       "    <tr>\n",
       "      <th>4.750</th>\n",
       "      <td>124000</td>\n",
       "      <td>360</td>\n",
       "      <td>80</td>\n",
       "      <td>1.0</td>\n",
       "      <td>43.0</td>\n",
       "      <td>681.0</td>\n",
       "      <td>C86</td>\n",
       "      <td>0.0</td>\n",
       "      <td>0.0</td>\n",
       "      <td>0.0</td>\n",
       "      <td>...</td>\n",
       "      <td>2</td>\n",
       "      <td>3</td>\n",
       "      <td>4</td>\n",
       "      <td>5</td>\n",
       "      <td>6</td>\n",
       "      <td>7</td>\n",
       "      <td>8</td>\n",
       "      <td>9</td>\n",
       "      <td>10</td>\n",
       "      <td>11</td>\n",
       "    </tr>\n",
       "  </tbody>\n",
       "</table>\n",
       "<p>5 rows × 22 columns</p>\n",
       "</div>"
      ],
      "text/plain": [
       "               unpaid_principal_bal  loan_term  loan_to_value  \\\n",
       "interest_rate                                                   \n",
       "4.250                        214000        360             95   \n",
       "4.875                        144000        360             72   \n",
       "3.250                        366000        180             49   \n",
       "4.750                        135000        360             46   \n",
       "4.750                        124000        360             80   \n",
       "\n",
       "               number_of_borrowers  debt_to_income_ratio  \\\n",
       "interest_rate                                              \n",
       "4.250                          1.0                  22.0   \n",
       "4.875                          1.0                  44.0   \n",
       "3.250                          1.0                  33.0   \n",
       "4.750                          2.0                  44.0   \n",
       "4.750                          1.0                  43.0   \n",
       "\n",
       "               borrower_credit_score loan_purpose  insurance_percent  \\\n",
       "interest_rate                                                          \n",
       "4.250                          694.0          C86               30.0   \n",
       "4.875                          697.0          B12                0.0   \n",
       "3.250                          780.0          B12                0.0   \n",
       "4.750                          633.0          B12                0.0   \n",
       "4.750                          681.0          C86                0.0   \n",
       "\n",
       "               co-borrower_credit_score  insurance_type  ...  m3  m4  m5  m6  \\\n",
       "interest_rate                                            ...                   \n",
       "4.250                               0.0             0.0  ...   0   0   0   0   \n",
       "4.875                               0.0             0.0  ...   0   0   0   0   \n",
       "3.250                               0.0             0.0  ...   0   0   0   0   \n",
       "4.750                             638.0             0.0  ...   0   0   0   0   \n",
       "4.750                               0.0             0.0  ...   2   3   4   5   \n",
       "\n",
       "               m7  m8  m9  m10  m11  m12  \n",
       "interest_rate                             \n",
       "4.250           1   0   0    0    0    0  \n",
       "4.875           0   0   0    0    1    0  \n",
       "3.250           0   0   0    0    0    0  \n",
       "4.750           0   0   1    1    1    1  \n",
       "4.750           6   7   8    9   10   11  \n",
       "\n",
       "[5 rows x 22 columns]"
      ]
     },
     "execution_count": 57,
     "metadata": {},
     "output_type": "execute_result"
    }
   ],
   "source": [
    "x.head()"
   ]
  },
  {
   "cell_type": "code",
   "execution_count": 58,
   "metadata": {},
   "outputs": [],
   "source": [
    "x.drop(['loan_purpose'],axis=1,inplace=True)"
   ]
  },
  {
   "cell_type": "code",
   "execution_count": 59,
   "metadata": {},
   "outputs": [
    {
     "name": "stderr",
     "output_type": "stream",
     "text": [
      "C:\\Users\\Varun Kurup\\Anaconda3\\lib\\site-packages\\sklearn\\preprocessing\\data.py:625: DataConversionWarning: Data with input dtype int64, float64 were all converted to float64 by StandardScaler.\n",
      "  return self.partial_fit(X, y)\n",
      "C:\\Users\\Varun Kurup\\Anaconda3\\lib\\site-packages\\ipykernel_launcher.py:1: DataConversionWarning: Data with input dtype int64, float64 were all converted to float64 by StandardScaler.\n",
      "  \"\"\"Entry point for launching an IPython kernel.\n"
     ]
    }
   ],
   "source": [
    "x=preprocessing.StandardScaler().fit(x).transform(x)"
   ]
  },
  {
   "cell_type": "code",
   "execution_count": 60,
   "metadata": {},
   "outputs": [],
   "source": [
    "from sklearn.model_selection import train_test_split\n",
    "x_train,x_test,y_train,y_test=train_test_split(x,y,test_size=0.3,random_state=1,stratify=y)"
   ]
  },
  {
   "cell_type": "code",
   "execution_count": 44,
   "metadata": {},
   "outputs": [
    {
     "name": "stdout",
     "output_type": "stream",
     "text": [
      "[[-0.90008788 -1.25087412  0.95815414 ... -0.04458259 -0.04364174\n",
      "  -0.04527618]\n",
      " [ 1.80297763 -1.25087412  0.43767154 ... -0.04458259 -0.04364174\n",
      "  -0.04527618]\n",
      " [-1.13551617 -2.18668185 -1.12377623 ... -0.04458259 -0.04364174\n",
      "  -0.04527618]\n",
      " ...\n",
      " [ 2.83188643  0.75442817 -0.02497965 ... -0.04458259 -0.04364174\n",
      "  -0.04527618]\n",
      " [-0.17636389  0.75442817  0.72682854 ... -0.04458259 -0.04364174\n",
      "  -0.04527618]\n",
      " [ 0.80022752  0.75442817 -0.95028203 ... -0.04458259 -0.04364174\n",
      "  -0.04527618]]\n"
     ]
    }
   ],
   "source": [
    "print(x_train)"
   ]
  },
  {
   "cell_type": "code",
   "execution_count": 45,
   "metadata": {},
   "outputs": [
    {
     "data": {
      "text/plain": [
       "(81240, 21)"
      ]
     },
     "execution_count": 45,
     "metadata": {},
     "output_type": "execute_result"
    }
   ],
   "source": [
    "x_train.shape"
   ]
  },
  {
   "cell_type": "code",
   "execution_count": 15,
   "metadata": {},
   "outputs": [],
   "source": [
    "from xgboost import XGBClassifier"
   ]
  },
  {
   "cell_type": "code",
   "execution_count": 16,
   "metadata": {},
   "outputs": [
    {
     "data": {
      "text/plain": [
       "XGBClassifier(base_score=0.5, booster='gbtree', colsample_bylevel=1,\n",
       "       colsample_bynode=1, colsample_bytree=1, gamma=0, learning_rate=0.1,\n",
       "       max_delta_step=0, max_depth=3, min_child_weight=1, missing=None,\n",
       "       n_estimators=100, n_jobs=1, nthread=None,\n",
       "       objective='binary:logistic', random_state=0, reg_alpha=0,\n",
       "       reg_lambda=1, scale_pos_weight=1, seed=None, silent=None,\n",
       "       subsample=1, verbosity=1)"
      ]
     },
     "execution_count": 16,
     "metadata": {},
     "output_type": "execute_result"
    }
   ],
   "source": [
    "model=XGBClassifier()\n",
    "model.fit(x_train,y_train)"
   ]
  },
  {
   "cell_type": "code",
   "execution_count": 17,
   "metadata": {},
   "outputs": [],
   "source": [
    "y_pred=model.predict(x_test)"
   ]
  },
  {
   "cell_type": "code",
   "execution_count": 72,
   "metadata": {},
   "outputs": [
    {
     "data": {
      "text/plain": [
       "XGBClassifier(base_score=0.5, booster='gbtree', colsample_bylevel=1,\n",
       "       colsample_bynode=1, colsample_bytree=1, gamma=0, learning_rate=0.1,\n",
       "       max_delta_step=0, max_depth=3, min_child_weight=1, missing=None,\n",
       "       n_estimators=100, n_jobs=1, nthread=None,\n",
       "       objective='binary:logistic', random_state=0, reg_alpha=0,\n",
       "       reg_lambda=1, scale_pos_weight=1, seed=None, silent=None,\n",
       "       subsample=1, verbosity=1)"
      ]
     },
     "execution_count": 72,
     "metadata": {},
     "output_type": "execute_result"
    }
   ],
   "source": [
    "model2=XGBClassifier()\n",
    "model2.fit(x,y)"
   ]
  },
  {
   "cell_type": "code",
   "execution_count": 18,
   "metadata": {},
   "outputs": [
    {
     "name": "stdout",
     "output_type": "stream",
     "text": [
      "0.9957512730137467\n"
     ]
    }
   ],
   "source": [
    "from sklearn.metrics import f1_score\n",
    "xgb_f1=f1_score(y_test,y_pred,average='weighted')\n",
    "print(xgb_f1)"
   ]
  },
  {
   "cell_type": "code",
   "execution_count": 17,
   "metadata": {},
   "outputs": [
    {
     "data": {
      "text/html": [
       "<div>\n",
       "<style scoped>\n",
       "    .dataframe tbody tr th:only-of-type {\n",
       "        vertical-align: middle;\n",
       "    }\n",
       "\n",
       "    .dataframe tbody tr th {\n",
       "        vertical-align: top;\n",
       "    }\n",
       "\n",
       "    .dataframe thead th {\n",
       "        text-align: right;\n",
       "    }\n",
       "</style>\n",
       "<table border=\"1\" class=\"dataframe\">\n",
       "  <thead>\n",
       "    <tr style=\"text-align: right;\">\n",
       "      <th></th>\n",
       "      <th>loan_id</th>\n",
       "      <th>source</th>\n",
       "      <th>financial_institution</th>\n",
       "      <th>unpaid_principal_bal</th>\n",
       "      <th>loan_term</th>\n",
       "      <th>origination_date</th>\n",
       "      <th>first_payment_date</th>\n",
       "      <th>loan_to_value</th>\n",
       "      <th>number_of_borrowers</th>\n",
       "      <th>debt_to_income_ratio</th>\n",
       "      <th>...</th>\n",
       "      <th>m3</th>\n",
       "      <th>m4</th>\n",
       "      <th>m5</th>\n",
       "      <th>m6</th>\n",
       "      <th>m7</th>\n",
       "      <th>m8</th>\n",
       "      <th>m9</th>\n",
       "      <th>m10</th>\n",
       "      <th>m11</th>\n",
       "      <th>m12</th>\n",
       "    </tr>\n",
       "    <tr>\n",
       "      <th>interest_rate</th>\n",
       "      <th></th>\n",
       "      <th></th>\n",
       "      <th></th>\n",
       "      <th></th>\n",
       "      <th></th>\n",
       "      <th></th>\n",
       "      <th></th>\n",
       "      <th></th>\n",
       "      <th></th>\n",
       "      <th></th>\n",
       "      <th></th>\n",
       "      <th></th>\n",
       "      <th></th>\n",
       "      <th></th>\n",
       "      <th></th>\n",
       "      <th></th>\n",
       "      <th></th>\n",
       "      <th></th>\n",
       "      <th></th>\n",
       "      <th></th>\n",
       "      <th></th>\n",
       "    </tr>\n",
       "  </thead>\n",
       "  <tbody>\n",
       "    <tr>\n",
       "      <th>3.875</th>\n",
       "      <td>1</td>\n",
       "      <td>Y</td>\n",
       "      <td>Browning-Hart</td>\n",
       "      <td>417000</td>\n",
       "      <td>360</td>\n",
       "      <td>01/02/12</td>\n",
       "      <td>Apr-12</td>\n",
       "      <td>75</td>\n",
       "      <td>1</td>\n",
       "      <td>20</td>\n",
       "      <td>...</td>\n",
       "      <td>0</td>\n",
       "      <td>0</td>\n",
       "      <td>0</td>\n",
       "      <td>0</td>\n",
       "      <td>0</td>\n",
       "      <td>0</td>\n",
       "      <td>0</td>\n",
       "      <td>0</td>\n",
       "      <td>0</td>\n",
       "      <td>0</td>\n",
       "    </tr>\n",
       "    <tr>\n",
       "      <th>4.500</th>\n",
       "      <td>2</td>\n",
       "      <td>X</td>\n",
       "      <td>OTHER</td>\n",
       "      <td>113000</td>\n",
       "      <td>360</td>\n",
       "      <td>01/02/12</td>\n",
       "      <td>Apr-12</td>\n",
       "      <td>80</td>\n",
       "      <td>2</td>\n",
       "      <td>33</td>\n",
       "      <td>...</td>\n",
       "      <td>0</td>\n",
       "      <td>0</td>\n",
       "      <td>0</td>\n",
       "      <td>0</td>\n",
       "      <td>0</td>\n",
       "      <td>0</td>\n",
       "      <td>0</td>\n",
       "      <td>0</td>\n",
       "      <td>0</td>\n",
       "      <td>0</td>\n",
       "    </tr>\n",
       "    <tr>\n",
       "      <th>4.500</th>\n",
       "      <td>3</td>\n",
       "      <td>Y</td>\n",
       "      <td>OTHER</td>\n",
       "      <td>72000</td>\n",
       "      <td>360</td>\n",
       "      <td>01/01/12</td>\n",
       "      <td>Mar-12</td>\n",
       "      <td>75</td>\n",
       "      <td>1</td>\n",
       "      <td>34</td>\n",
       "      <td>...</td>\n",
       "      <td>0</td>\n",
       "      <td>0</td>\n",
       "      <td>0</td>\n",
       "      <td>0</td>\n",
       "      <td>0</td>\n",
       "      <td>0</td>\n",
       "      <td>0</td>\n",
       "      <td>0</td>\n",
       "      <td>0</td>\n",
       "      <td>0</td>\n",
       "    </tr>\n",
       "    <tr>\n",
       "      <th>4.125</th>\n",
       "      <td>4</td>\n",
       "      <td>X</td>\n",
       "      <td>Miller, Mcclure and Allen</td>\n",
       "      <td>123000</td>\n",
       "      <td>180</td>\n",
       "      <td>01/02/12</td>\n",
       "      <td>Apr-12</td>\n",
       "      <td>41</td>\n",
       "      <td>2</td>\n",
       "      <td>24</td>\n",
       "      <td>...</td>\n",
       "      <td>0</td>\n",
       "      <td>0</td>\n",
       "      <td>0</td>\n",
       "      <td>0</td>\n",
       "      <td>0</td>\n",
       "      <td>0</td>\n",
       "      <td>0</td>\n",
       "      <td>0</td>\n",
       "      <td>0</td>\n",
       "      <td>0</td>\n",
       "    </tr>\n",
       "    <tr>\n",
       "      <th>3.250</th>\n",
       "      <td>5</td>\n",
       "      <td>X</td>\n",
       "      <td>Browning-Hart</td>\n",
       "      <td>166000</td>\n",
       "      <td>180</td>\n",
       "      <td>01/02/12</td>\n",
       "      <td>Apr-12</td>\n",
       "      <td>53</td>\n",
       "      <td>2</td>\n",
       "      <td>12</td>\n",
       "      <td>...</td>\n",
       "      <td>0</td>\n",
       "      <td>0</td>\n",
       "      <td>0</td>\n",
       "      <td>0</td>\n",
       "      <td>0</td>\n",
       "      <td>0</td>\n",
       "      <td>0</td>\n",
       "      <td>0</td>\n",
       "      <td>0</td>\n",
       "      <td>0</td>\n",
       "    </tr>\n",
       "  </tbody>\n",
       "</table>\n",
       "<p>5 rows × 27 columns</p>\n",
       "</div>"
      ],
      "text/plain": [
       "               loan_id source      financial_institution  \\\n",
       "interest_rate                                              \n",
       "3.875                1      Y              Browning-Hart   \n",
       "4.500                2      X                      OTHER   \n",
       "4.500                3      Y                      OTHER   \n",
       "4.125                4      X  Miller, Mcclure and Allen   \n",
       "3.250                5      X              Browning-Hart   \n",
       "\n",
       "               unpaid_principal_bal  loan_term origination_date  \\\n",
       "interest_rate                                                     \n",
       "3.875                        417000        360         01/02/12   \n",
       "4.500                        113000        360         01/02/12   \n",
       "4.500                         72000        360         01/01/12   \n",
       "4.125                        123000        180         01/02/12   \n",
       "3.250                        166000        180         01/02/12   \n",
       "\n",
       "              first_payment_date  loan_to_value  number_of_borrowers  \\\n",
       "interest_rate                                                          \n",
       "3.875                     Apr-12             75                    1   \n",
       "4.500                     Apr-12             80                    2   \n",
       "4.500                     Mar-12             75                    1   \n",
       "4.125                     Apr-12             41                    2   \n",
       "3.250                     Apr-12             53                    2   \n",
       "\n",
       "               debt_to_income_ratio  ...  m3 m4  m5  m6  m7  m8  m9  m10  m11  \\\n",
       "interest_rate                        ...                                        \n",
       "3.875                            20  ...   0  0   0   0   0   0   0    0    0   \n",
       "4.500                            33  ...   0  0   0   0   0   0   0    0    0   \n",
       "4.500                            34  ...   0  0   0   0   0   0   0    0    0   \n",
       "4.125                            24  ...   0  0   0   0   0   0   0    0    0   \n",
       "3.250                            12  ...   0  0   0   0   0   0   0    0    0   \n",
       "\n",
       "               m12  \n",
       "interest_rate       \n",
       "3.875            0  \n",
       "4.500            0  \n",
       "4.500            0  \n",
       "4.125            0  \n",
       "3.250            0  \n",
       "\n",
       "[5 rows x 27 columns]"
      ]
     },
     "execution_count": 17,
     "metadata": {},
     "output_type": "execute_result"
    }
   ],
   "source": [
    "loan_test=pd.read_csv(r'C:\\Users\\Varun Kurup\\m001\\test.csv',index_col='interest_rate')\n",
    "loan_test.head()"
   ]
  },
  {
   "cell_type": "code",
   "execution_count": 18,
   "metadata": {},
   "outputs": [],
   "source": [
    "loan_test1=loan_test"
   ]
  },
  {
   "cell_type": "code",
   "execution_count": 19,
   "metadata": {},
   "outputs": [],
   "source": [
    "loan_test1.drop(['loan_id'],axis=1,inplace=True)\n",
    "loan_test1.drop(['source'],axis=1,inplace=True)\n",
    "loan_test1.drop(['financial_institution'],axis=1,inplace=True)\n",
    "loan_test1.drop(['first_payment_date'],axis=1,inplace=True)\n",
    "loan_test1.drop(['origination_date'],axis=1,inplace=True)"
   ]
  },
  {
   "cell_type": "code",
   "execution_count": 20,
   "metadata": {},
   "outputs": [],
   "source": [
    "loan_test1.drop(['loan_purpose'],axis=1,inplace=True)"
   ]
  },
  {
   "cell_type": "code",
   "execution_count": 21,
   "metadata": {},
   "outputs": [],
   "source": [
    "x_test1=loan_test1"
   ]
  },
  {
   "cell_type": "code",
   "execution_count": 22,
   "metadata": {},
   "outputs": [
    {
     "name": "stderr",
     "output_type": "stream",
     "text": [
      "C:\\Users\\Varun Kurup\\Anaconda3\\lib\\site-packages\\sklearn\\preprocessing\\data.py:625: DataConversionWarning: Data with input dtype int64 were all converted to float64 by StandardScaler.\n",
      "  return self.partial_fit(X, y)\n",
      "C:\\Users\\Varun Kurup\\Anaconda3\\lib\\site-packages\\ipykernel_launcher.py:1: DataConversionWarning: Data with input dtype int64 were all converted to float64 by StandardScaler.\n",
      "  \"\"\"Entry point for launching an IPython kernel.\n"
     ]
    }
   ],
   "source": [
    "x_test1=preprocessing.StandardScaler().fit(x_test1).transform(x_test1)"
   ]
  },
  {
   "cell_type": "code",
   "execution_count": 29,
   "metadata": {},
   "outputs": [],
   "source": [
    "ypred1=model.predict(x_test1)"
   ]
  },
  {
   "cell_type": "code",
   "execution_count": 30,
   "metadata": {},
   "outputs": [
    {
     "name": "stdout",
     "output_type": "stream",
     "text": [
      "                               0\n",
      "0                              0\n",
      "1                              0\n",
      "2                              0\n",
      "3                              0\n",
      "4                              0\n",
      "5                              0\n",
      "6                              0\n",
      "7                              0\n",
      "8                              0\n",
      "9                              0\n",
      "10                             0\n",
      "11                             0\n",
      "12                             0\n",
      "13                             0\n",
      "14                             0\n",
      "15                             0\n",
      "16                             0\n",
      "17                             0\n",
      "18                             0\n",
      "19                             0\n",
      "20                             0\n",
      "21                             0\n",
      "22                             0\n",
      "23                             0\n",
      "24                             0\n",
      "25                             0\n",
      "26                             0\n",
      "27                             0\n",
      "28                             0\n",
      "29                             0\n",
      "...                          ...\n",
      "35857                          0\n",
      "35858                          0\n",
      "35859                          0\n",
      "35860                          0\n",
      "35861                          0\n",
      "35862                          0\n",
      "35863                          0\n",
      "35864                          0\n",
      "35865                          0\n",
      "unpaid_principal_bal      113000\n",
      "loan_term                    360\n",
      "loan_to_value                 80\n",
      "number_of_borrowers            2\n",
      "debt_to_income_ratio          33\n",
      "borrower_credit_score        793\n",
      "insurance_percent              0\n",
      "co-borrower_credit_score     784\n",
      "insurance_type                 0\n",
      "m1                             0\n",
      "m2                             0\n",
      "m3                             0\n",
      "m4                             0\n",
      "m5                             0\n",
      "m6                             0\n",
      "m7                             0\n",
      "m8                             0\n",
      "m9                             0\n",
      "m10                            0\n",
      "m11                            0\n",
      "m12                            0\n",
      "\n",
      "[35887 rows x 1 columns]\n"
     ]
    }
   ],
   "source": [
    "df1=pd.DataFrame(ypred1)\n",
    "df2=loan_test.iloc[1]\n",
    "df3=pd.concat([df1,df2])\n",
    "print(df3)"
   ]
  },
  {
   "cell_type": "code",
   "execution_count": 27,
   "metadata": {},
   "outputs": [
    {
     "data": {
      "text/html": [
       "<div>\n",
       "<style scoped>\n",
       "    .dataframe tbody tr th:only-of-type {\n",
       "        vertical-align: middle;\n",
       "    }\n",
       "\n",
       "    .dataframe tbody tr th {\n",
       "        vertical-align: top;\n",
       "    }\n",
       "\n",
       "    .dataframe thead th {\n",
       "        text-align: right;\n",
       "    }\n",
       "</style>\n",
       "<table border=\"1\" class=\"dataframe\">\n",
       "  <thead>\n",
       "    <tr style=\"text-align: right;\">\n",
       "      <th></th>\n",
       "      <th>0</th>\n",
       "    </tr>\n",
       "  </thead>\n",
       "  <tbody>\n",
       "    <tr>\n",
       "      <th>0</th>\n",
       "      <td>0</td>\n",
       "    </tr>\n",
       "    <tr>\n",
       "      <th>1</th>\n",
       "      <td>0</td>\n",
       "    </tr>\n",
       "    <tr>\n",
       "      <th>2</th>\n",
       "      <td>0</td>\n",
       "    </tr>\n",
       "    <tr>\n",
       "      <th>3</th>\n",
       "      <td>0</td>\n",
       "    </tr>\n",
       "    <tr>\n",
       "      <th>4</th>\n",
       "      <td>0</td>\n",
       "    </tr>\n",
       "  </tbody>\n",
       "</table>\n",
       "</div>"
      ],
      "text/plain": [
       "   0\n",
       "0  0\n",
       "1  0\n",
       "2  0\n",
       "3  0\n",
       "4  0"
      ]
     },
     "execution_count": 27,
     "metadata": {},
     "output_type": "execute_result"
    }
   ],
   "source": [
    "df3.head()"
   ]
  },
  {
   "cell_type": "code",
   "execution_count": 28,
   "metadata": {},
   "outputs": [],
   "source": [
    "df3.to_csv(r'C:\\Users\\Varun Kurup\\Documents\\submission.csv')"
   ]
  },
  {
   "cell_type": "code",
   "execution_count": 31,
   "metadata": {},
   "outputs": [
    {
     "name": "stderr",
     "output_type": "stream",
     "text": [
      "C:\\Users\\Varun Kurup\\Anaconda3\\lib\\site-packages\\sklearn\\svm\\base.py:196: FutureWarning: The default value of gamma will change from 'auto' to 'scale' in version 0.22 to account better for unscaled features. Set gamma explicitly to 'auto' or 'scale' to avoid this warning.\n",
      "  \"avoid this warning.\", FutureWarning)\n",
      "C:\\Users\\Varun Kurup\\Anaconda3\\lib\\site-packages\\sklearn\\svm\\base.py:196: FutureWarning: The default value of gamma will change from 'auto' to 'scale' in version 0.22 to account better for unscaled features. Set gamma explicitly to 'auto' or 'scale' to avoid this warning.\n",
      "  \"avoid this warning.\", FutureWarning)\n",
      "C:\\Users\\Varun Kurup\\Anaconda3\\lib\\site-packages\\sklearn\\svm\\base.py:196: FutureWarning: The default value of gamma will change from 'auto' to 'scale' in version 0.22 to account better for unscaled features. Set gamma explicitly to 'auto' or 'scale' to avoid this warning.\n",
      "  \"avoid this warning.\", FutureWarning)\n"
     ]
    },
    {
     "data": {
      "text/plain": [
       "[0.9950600264231145,\n",
       " 0.9957206042851399,\n",
       " 0.9955482796254811,\n",
       " 0.9908380722614739]"
      ]
     },
     "execution_count": 31,
     "metadata": {},
     "output_type": "execute_result"
    }
   ],
   "source": [
    "from sklearn import svm\n",
    "from sklearn import metrics\n",
    "svs=['rbf','linear','poly','sigmoid']\n",
    "svm_test_accuracy=[]\n",
    "for s in svs:\n",
    "    clf=svm.SVC(kernel=s)\n",
    "    clf.fit(x_train,y_train)\n",
    "    svm_test_accuracy.append(metrics.accuracy_score(y_test,clf.predict(x_test)))\n",
    "svm_test_accuracy    "
   ]
  },
  {
   "cell_type": "code",
   "execution_count": 30,
   "metadata": {},
   "outputs": [],
   "source": [
    "clf1=svm.SVC(kernel='linear')"
   ]
  },
  {
   "cell_type": "code",
   "execution_count": 32,
   "metadata": {},
   "outputs": [],
   "source": [
    "x_test1=preprocessing.StandardScaler().fit(x_test1).transform(x_test1)"
   ]
  },
  {
   "cell_type": "code",
   "execution_count": 33,
   "metadata": {},
   "outputs": [
    {
     "data": {
      "text/plain": [
       "SVC(C=1.0, cache_size=200, class_weight=None, coef0=0.0,\n",
       "  decision_function_shape='ovr', degree=3, gamma='auto_deprecated',\n",
       "  kernel='linear', max_iter=-1, probability=False, random_state=None,\n",
       "  shrinking=True, tol=0.001, verbose=False)"
      ]
     },
     "execution_count": 33,
     "metadata": {},
     "output_type": "execute_result"
    }
   ],
   "source": [
    "clf1.fit(x_train,y_train)"
   ]
  },
  {
   "cell_type": "code",
   "execution_count": 34,
   "metadata": {},
   "outputs": [],
   "source": [
    "ypred2=clf1.predict(x_test1)"
   ]
  },
  {
   "cell_type": "code",
   "execution_count": 35,
   "metadata": {},
   "outputs": [
    {
     "data": {
      "text/html": [
       "<div>\n",
       "<style scoped>\n",
       "    .dataframe tbody tr th:only-of-type {\n",
       "        vertical-align: middle;\n",
       "    }\n",
       "\n",
       "    .dataframe tbody tr th {\n",
       "        vertical-align: top;\n",
       "    }\n",
       "\n",
       "    .dataframe thead th {\n",
       "        text-align: right;\n",
       "    }\n",
       "</style>\n",
       "<table border=\"1\" class=\"dataframe\">\n",
       "  <thead>\n",
       "    <tr style=\"text-align: right;\">\n",
       "      <th></th>\n",
       "      <th>0</th>\n",
       "    </tr>\n",
       "  </thead>\n",
       "  <tbody>\n",
       "    <tr>\n",
       "      <th>0</th>\n",
       "      <td>0</td>\n",
       "    </tr>\n",
       "    <tr>\n",
       "      <th>1</th>\n",
       "      <td>0</td>\n",
       "    </tr>\n",
       "    <tr>\n",
       "      <th>2</th>\n",
       "      <td>0</td>\n",
       "    </tr>\n",
       "    <tr>\n",
       "      <th>3</th>\n",
       "      <td>0</td>\n",
       "    </tr>\n",
       "    <tr>\n",
       "      <th>4</th>\n",
       "      <td>0</td>\n",
       "    </tr>\n",
       "  </tbody>\n",
       "</table>\n",
       "</div>"
      ],
      "text/plain": [
       "   0\n",
       "0  0\n",
       "1  0\n",
       "2  0\n",
       "3  0\n",
       "4  0"
      ]
     },
     "execution_count": 35,
     "metadata": {},
     "output_type": "execute_result"
    }
   ],
   "source": [
    "df21=pd.DataFrame(ypred2)\n",
    "df31=pd.concat([df21,df2])\n",
    "df31.head()"
   ]
  },
  {
   "cell_type": "code",
   "execution_count": 36,
   "metadata": {},
   "outputs": [],
   "source": [
    "df31.to_csv(r'C:\\Users\\Varun Kurup\\Documents\\submissionsvm1.csv')"
   ]
  },
  {
   "cell_type": "code",
   "execution_count": 47,
   "metadata": {},
   "outputs": [
    {
     "name": "stderr",
     "output_type": "stream",
     "text": [
      "C:\\Users\\Varun Kurup\\Anaconda3\\lib\\site-packages\\sklearn\\ensemble\\forest.py:246: FutureWarning: The default value of n_estimators will change from 10 in version 0.20 to 100 in 0.22.\n",
      "  \"10 in version 0.20 to 100 in 0.22.\", FutureWarning)\n"
     ]
    },
    {
     "data": {
      "text/plain": [
       "RandomForestClassifier(bootstrap=True, class_weight=None, criterion='gini',\n",
       "            max_depth=None, max_features='auto', max_leaf_nodes=None,\n",
       "            min_impurity_decrease=0.0, min_impurity_split=None,\n",
       "            min_samples_leaf=1, min_samples_split=2,\n",
       "            min_weight_fraction_leaf=0.0, n_estimators=10, n_jobs=None,\n",
       "            oob_score=False, random_state=None, verbose=0,\n",
       "            warm_start=False)"
      ]
     },
     "execution_count": 47,
     "metadata": {},
     "output_type": "execute_result"
    }
   ],
   "source": [
    "from sklearn.ensemble import RandomForestClassifier\n",
    "clf1=RandomForestClassifier()\n",
    "clf1.fit(x_train,y_train)"
   ]
  },
  {
   "cell_type": "code",
   "execution_count": 82,
   "metadata": {},
   "outputs": [
    {
     "name": "stdout",
     "output_type": "stream",
     "text": [
      "[0 0 0 ... 0 0 0]\n"
     ]
    }
   ],
   "source": [
    "ypred3=clf1.predict(x_test1)\n",
    "print(ypred3)"
   ]
  },
  {
   "cell_type": "code",
   "execution_count": 83,
   "metadata": {},
   "outputs": [],
   "source": [
    "df5=pd.DataFrame(ypred3)"
   ]
  },
  {
   "cell_type": "code",
   "execution_count": 84,
   "metadata": {},
   "outputs": [
    {
     "name": "stdout",
     "output_type": "stream",
     "text": [
      "                               0\n",
      "0                              0\n",
      "1                              0\n",
      "2                              0\n",
      "3                              0\n",
      "4                              0\n",
      "5                              0\n",
      "6                              0\n",
      "7                              0\n",
      "8                              0\n",
      "9                              0\n",
      "10                             0\n",
      "11                             0\n",
      "12                             0\n",
      "13                             0\n",
      "14                             0\n",
      "15                             0\n",
      "16                             0\n",
      "17                             0\n",
      "18                             0\n",
      "19                             0\n",
      "20                             0\n",
      "21                             0\n",
      "22                             0\n",
      "23                             0\n",
      "24                             0\n",
      "25                             0\n",
      "26                             0\n",
      "27                             0\n",
      "28                             0\n",
      "29                             0\n",
      "...                          ...\n",
      "35857                          0\n",
      "35858                          0\n",
      "35859                          0\n",
      "35860                          0\n",
      "35861                          0\n",
      "35862                          0\n",
      "35863                          0\n",
      "35864                          0\n",
      "35865                          0\n",
      "unpaid_principal_bal      113000\n",
      "loan_term                    360\n",
      "loan_to_value                 80\n",
      "number_of_borrowers            2\n",
      "debt_to_income_ratio          33\n",
      "borrower_credit_score        793\n",
      "insurance_percent              0\n",
      "co-borrower_credit_score     784\n",
      "insurance_type                 0\n",
      "m1                             0\n",
      "m2                             0\n",
      "m3                             0\n",
      "m4                             0\n",
      "m5                             0\n",
      "m6                             0\n",
      "m7                             0\n",
      "m8                             0\n",
      "m9                             0\n",
      "m10                            0\n",
      "m11                            0\n",
      "m12                            0\n",
      "\n",
      "[35887 rows x 1 columns]\n"
     ]
    }
   ],
   "source": [
    "df51=pd.concat([df5,df2])\n",
    "print(df51)"
   ]
  },
  {
   "cell_type": "code",
   "execution_count": 55,
   "metadata": {},
   "outputs": [],
   "source": [
    "df51.to_csv(r'C:\\Users\\Varun Kurup\\Documents\\randomforestsubmission1.csv')"
   ]
  },
  {
   "cell_type": "code",
   "execution_count": 56,
   "metadata": {},
   "outputs": [],
   "source": [
    "from sklearn.linear_model import LogisticRegression"
   ]
  },
  {
   "cell_type": "code",
   "execution_count": 57,
   "metadata": {},
   "outputs": [
    {
     "data": {
      "text/plain": [
       "[0.9962375782641163,\n",
       " 0.9961801367108967,\n",
       " 0.9961801367108967,\n",
       " 0.9962088574875064,\n",
       " 0.9962088574875064]"
      ]
     },
     "execution_count": 57,
     "metadata": {},
     "output_type": "execute_result"
    }
   ],
   "source": [
    "from sklearn.linear_model import LogisticRegression\n",
    "from sklearn import metrics\n",
    "CS=[0.01,0.05,0.1,0.5,1]\n",
    "lr_test_accuracy=[]\n",
    "lr_train_accuracy=[]\n",
    "for cs in CS:\n",
    "    Lr=LogisticRegression(C=cs,solver='liblinear')\n",
    "    Lr.fit(x_train,y_train)\n",
    "    lr_train_accuracy.append(metrics.accuracy_score(y_train,Lr.predict(x_train)))\n",
    "    lr_test_accuracy.append(metrics.accuracy_score(y_test,Lr.predict(x_test)))\n",
    "\n",
    "lr_test_accuracy"
   ]
  },
  {
   "cell_type": "code",
   "execution_count": 74,
   "metadata": {},
   "outputs": [
    {
     "data": {
      "text/plain": [
       "LogisticRegression(C=0.01, class_weight=None, dual=False, fit_intercept=True,\n",
       "          intercept_scaling=1, max_iter=100, multi_class='warn',\n",
       "          n_jobs=None, penalty='l2', random_state=None, solver='liblinear',\n",
       "          tol=0.0001, verbose=0, warm_start=False)"
      ]
     },
     "execution_count": 74,
     "metadata": {},
     "output_type": "execute_result"
    }
   ],
   "source": [
    "lr1=LogisticRegression(C=0.01,solver='liblinear')\n",
    "lr1.fit(x_train,y_train)"
   ]
  },
  {
   "cell_type": "code",
   "execution_count": 98,
   "metadata": {},
   "outputs": [],
   "source": [
    "ypred4=model.predict(x_test1)"
   ]
  },
  {
   "cell_type": "code",
   "execution_count": 99,
   "metadata": {},
   "outputs": [],
   "source": [
    "df6=pd.DataFrame(ypred4)\n",
    "df61=pd.concat([df6,df2])"
   ]
  },
  {
   "cell_type": "code",
   "execution_count": 100,
   "metadata": {},
   "outputs": [
    {
     "name": "stdout",
     "output_type": "stream",
     "text": [
      "                               0\n",
      "0                              0\n",
      "1                              0\n",
      "2                              0\n",
      "3                              0\n",
      "4                              0\n",
      "5                              0\n",
      "6                              0\n",
      "7                              0\n",
      "8                              0\n",
      "9                              0\n",
      "10                             0\n",
      "11                             0\n",
      "12                             0\n",
      "13                             0\n",
      "14                             0\n",
      "15                             0\n",
      "16                             0\n",
      "17                             0\n",
      "18                             0\n",
      "19                             0\n",
      "20                             0\n",
      "21                             0\n",
      "22                             0\n",
      "23                             0\n",
      "24                             0\n",
      "25                             0\n",
      "26                             0\n",
      "27                             0\n",
      "28                             0\n",
      "29                             0\n",
      "...                          ...\n",
      "35857                          0\n",
      "35858                          0\n",
      "35859                          0\n",
      "35860                          0\n",
      "35861                          0\n",
      "35862                          0\n",
      "35863                          0\n",
      "35864                          0\n",
      "35865                          0\n",
      "unpaid_principal_bal      113000\n",
      "loan_term                    360\n",
      "loan_to_value                 80\n",
      "number_of_borrowers            2\n",
      "debt_to_income_ratio          33\n",
      "borrower_credit_score        793\n",
      "insurance_percent              0\n",
      "co-borrower_credit_score     784\n",
      "insurance_type                 0\n",
      "m1                             0\n",
      "m2                             0\n",
      "m3                             0\n",
      "m4                             0\n",
      "m5                             0\n",
      "m6                             0\n",
      "m7                             0\n",
      "m8                             0\n",
      "m9                             0\n",
      "m10                            0\n",
      "m11                            0\n",
      "m12                            0\n",
      "\n",
      "[35887 rows x 1 columns]\n"
     ]
    }
   ],
   "source": [
    "print(df61)"
   ]
  },
  {
   "cell_type": "code",
   "execution_count": 102,
   "metadata": {},
   "outputs": [],
   "source": [
    "df61.to_csv(r'C:\\Users\\Varun Kurup\\Documents\\randomforestsubmission23.csv')"
   ]
  },
  {
   "cell_type": "code",
   "execution_count": 103,
   "metadata": {},
   "outputs": [],
   "source": [
    "ypred5=lr1.predict(x_test1)"
   ]
  },
  {
   "cell_type": "code",
   "execution_count": 104,
   "metadata": {},
   "outputs": [],
   "source": [
    "df7=pd.DataFrame(ypred5)"
   ]
  },
  {
   "cell_type": "code",
   "execution_count": 105,
   "metadata": {},
   "outputs": [
    {
     "name": "stdout",
     "output_type": "stream",
     "text": [
      "                               0\n",
      "0                              0\n",
      "1                              0\n",
      "2                              0\n",
      "3                              0\n",
      "4                              0\n",
      "5                              0\n",
      "6                              0\n",
      "7                              0\n",
      "8                              0\n",
      "9                              0\n",
      "10                             0\n",
      "11                             0\n",
      "12                             0\n",
      "13                             0\n",
      "14                             0\n",
      "15                             0\n",
      "16                             0\n",
      "17                             0\n",
      "18                             0\n",
      "19                             0\n",
      "20                             0\n",
      "21                             0\n",
      "22                             0\n",
      "23                             0\n",
      "24                             0\n",
      "25                             0\n",
      "26                             0\n",
      "27                             0\n",
      "28                             0\n",
      "29                             0\n",
      "...                          ...\n",
      "35857                          0\n",
      "35858                          0\n",
      "35859                          0\n",
      "35860                          0\n",
      "35861                          0\n",
      "35862                          0\n",
      "35863                          0\n",
      "35864                          0\n",
      "35865                          0\n",
      "unpaid_principal_bal      113000\n",
      "loan_term                    360\n",
      "loan_to_value                 80\n",
      "number_of_borrowers            2\n",
      "debt_to_income_ratio          33\n",
      "borrower_credit_score        793\n",
      "insurance_percent              0\n",
      "co-borrower_credit_score     784\n",
      "insurance_type                 0\n",
      "m1                             0\n",
      "m2                             0\n",
      "m3                             0\n",
      "m4                             0\n",
      "m5                             0\n",
      "m6                             0\n",
      "m7                             0\n",
      "m8                             0\n",
      "m9                             0\n",
      "m10                            0\n",
      "m11                            0\n",
      "m12                            0\n",
      "\n",
      "[35887 rows x 1 columns]\n"
     ]
    }
   ],
   "source": [
    "df71=pd.concat([df7,df2])\n",
    "print(df71)"
   ]
  },
  {
   "cell_type": "code",
   "execution_count": 108,
   "metadata": {},
   "outputs": [],
   "source": [
    "df71.to_csv(r'C:\\Users\\Varun Kurup\\Documents\\logisticregressionsubmission1729.csv')"
   ]
  },
  {
   "cell_type": "code",
   "execution_count": 110,
   "metadata": {},
   "outputs": [
    {
     "data": {
      "text/plain": [
       "array([0.9935091 , 0.99569188, 0.99577805, 0.99595037, 0.99577805,\n",
       "       0.99586421, 0.99577805, 0.99580677, 0.99580677])"
      ]
     },
     "execution_count": 110,
     "metadata": {},
     "output_type": "execute_result"
    }
   ],
   "source": [
    "from sklearn.neighbors import KNeighborsClassifier\n",
    "from sklearn import metrics\n",
    "Ks = 10\n",
    "mean_acc = np.zeros((Ks-1))\n",
    "std_acc = np.zeros((Ks-1))\n",
    "ConfustionMx = [];\n",
    "for n in range(1,Ks):\n",
    "    \n",
    "    #Train Model and Predict  \n",
    "    neigh = KNeighborsClassifier(n_neighbors = n).fit(x_train,y_train)\n",
    "    yhat=neigh.predict(x_test)\n",
    "    mean_acc[n-1] = metrics.accuracy_score(y_test, yhat)\n",
    "\n",
    "    \n",
    "    std_acc[n-1]=np.std(yhat==y_test)/np.sqrt(yhat.shape[0])\n",
    "\n",
    "mean_acc"
   ]
  },
  {
   "cell_type": "code",
   "execution_count": 113,
   "metadata": {},
   "outputs": [],
   "source": [
    "neig1=KNeighborsClassifier(n_neighbors=4).fit(x_train,y_train)"
   ]
  },
  {
   "cell_type": "code",
   "execution_count": 114,
   "metadata": {},
   "outputs": [],
   "source": [
    "yhat2=neig1.predict(x_test1)"
   ]
  },
  {
   "cell_type": "code",
   "execution_count": 115,
   "metadata": {},
   "outputs": [],
   "source": [
    "dfkmean=pd.DataFrame(yhat2)"
   ]
  },
  {
   "cell_type": "code",
   "execution_count": 116,
   "metadata": {},
   "outputs": [],
   "source": [
    "dfoverall=pd.concat([dfkmean,df2])"
   ]
  },
  {
   "cell_type": "code",
   "execution_count": 117,
   "metadata": {},
   "outputs": [
    {
     "name": "stdout",
     "output_type": "stream",
     "text": [
      "                               0\n",
      "0                              0\n",
      "1                              0\n",
      "2                              0\n",
      "3                              0\n",
      "4                              0\n",
      "5                              0\n",
      "6                              0\n",
      "7                              0\n",
      "8                              0\n",
      "9                              0\n",
      "10                             0\n",
      "11                             0\n",
      "12                             0\n",
      "13                             0\n",
      "14                             0\n",
      "15                             0\n",
      "16                             0\n",
      "17                             0\n",
      "18                             0\n",
      "19                             0\n",
      "20                             0\n",
      "21                             0\n",
      "22                             0\n",
      "23                             0\n",
      "24                             0\n",
      "25                             0\n",
      "26                             0\n",
      "27                             0\n",
      "28                             0\n",
      "29                             0\n",
      "...                          ...\n",
      "35857                          0\n",
      "35858                          0\n",
      "35859                          0\n",
      "35860                          0\n",
      "35861                          0\n",
      "35862                          0\n",
      "35863                          0\n",
      "35864                          0\n",
      "35865                          0\n",
      "unpaid_principal_bal      113000\n",
      "loan_term                    360\n",
      "loan_to_value                 80\n",
      "number_of_borrowers            2\n",
      "debt_to_income_ratio          33\n",
      "borrower_credit_score        793\n",
      "insurance_percent              0\n",
      "co-borrower_credit_score     784\n",
      "insurance_type                 0\n",
      "m1                             0\n",
      "m2                             0\n",
      "m3                             0\n",
      "m4                             0\n",
      "m5                             0\n",
      "m6                             0\n",
      "m7                             0\n",
      "m8                             0\n",
      "m9                             0\n",
      "m10                            0\n",
      "m11                            0\n",
      "m12                            0\n",
      "\n",
      "[35887 rows x 1 columns]\n"
     ]
    }
   ],
   "source": [
    "print(dfoverall)"
   ]
  },
  {
   "cell_type": "code",
   "execution_count": 118,
   "metadata": {},
   "outputs": [],
   "source": [
    "dfoverall.to_csv(r'C:\\Users\\Varun Kurup\\Documents\\kmeanssubmission.csv')"
   ]
  },
  {
   "cell_type": "code",
   "execution_count": 23,
   "metadata": {},
   "outputs": [
    {
     "data": {
      "text/plain": [
       "[0.9956918835085301,\n",
       " 0.9954908380722615,\n",
       " 0.9958929289447986,\n",
       " 0.9958067666149693,\n",
       " 0.9960652536044574,\n",
       " 0.9956631627319202,\n",
       " 0.9956631627319202,\n",
       " 0.9956918835085301,\n",
       " 0.9954333965190418,\n",
       " 0.9954046757424321]"
      ]
     },
     "execution_count": 23,
     "metadata": {},
     "output_type": "execute_result"
    }
   ],
   "source": [
    "from sklearn.tree import DecisionTreeClassifier\n",
    "from sklearn import metrics\n",
    "Dps = [1,2,3,4,5,6,7,8,9,10]\n",
    "meantesacc = []\n",
    "meantrainacc = []\n",
    "ConfustionMx = []\n",
    "for d in Dps:\n",
    "    dtc=DecisionTreeClassifier(criterion=\"entropy\",max_depth=d)\n",
    "    dtc.fit(x_train,y_train)\n",
    "    meantrainacc.append(metrics.accuracy_score(y_train,dtc.predict(x_train)))\n",
    "    meantesacc.append(metrics.accuracy_score(y_test,dtc.predict(x_test)))\n",
    "\n",
    "\n",
    "meantesacc"
   ]
  },
  {
   "cell_type": "code",
   "execution_count": 25,
   "metadata": {},
   "outputs": [
    {
     "data": {
      "text/plain": [
       "DecisionTreeClassifier(class_weight=None, criterion='entropy', max_depth=5,\n",
       "            max_features=None, max_leaf_nodes=None,\n",
       "            min_impurity_decrease=0.0, min_impurity_split=None,\n",
       "            min_samples_leaf=1, min_samples_split=2,\n",
       "            min_weight_fraction_leaf=0.0, presort=False, random_state=None,\n",
       "            splitter='best')"
      ]
     },
     "execution_count": 25,
     "metadata": {},
     "output_type": "execute_result"
    }
   ],
   "source": [
    "dtc1=DecisionTreeClassifier(criterion=\"entropy\", max_depth=5)\n",
    "dtc1.fit(x_train,y_train)"
   ]
  },
  {
   "cell_type": "code",
   "execution_count": 26,
   "metadata": {},
   "outputs": [],
   "source": [
    "yhat2=dtc1.predict(x_test1)"
   ]
  },
  {
   "cell_type": "code",
   "execution_count": 27,
   "metadata": {},
   "outputs": [],
   "source": [
    "dfdec=pd.DataFrame(yhat2)"
   ]
  },
  {
   "cell_type": "code",
   "execution_count": 31,
   "metadata": {},
   "outputs": [],
   "source": [
    "dfdec2=pd.concat([dfdec,df2])"
   ]
  },
  {
   "cell_type": "code",
   "execution_count": 32,
   "metadata": {},
   "outputs": [
    {
     "name": "stdout",
     "output_type": "stream",
     "text": [
      "                               0\n",
      "0                              0\n",
      "1                              0\n",
      "2                              0\n",
      "3                              0\n",
      "4                              0\n",
      "5                              0\n",
      "6                              0\n",
      "7                              0\n",
      "8                              0\n",
      "9                              0\n",
      "10                             0\n",
      "11                             0\n",
      "12                             0\n",
      "13                             0\n",
      "14                             0\n",
      "15                             0\n",
      "16                             0\n",
      "17                             0\n",
      "18                             0\n",
      "19                             0\n",
      "20                             0\n",
      "21                             0\n",
      "22                             0\n",
      "23                             0\n",
      "24                             0\n",
      "25                             0\n",
      "26                             0\n",
      "27                             0\n",
      "28                             0\n",
      "29                             0\n",
      "...                          ...\n",
      "35857                          0\n",
      "35858                          0\n",
      "35859                          0\n",
      "35860                          0\n",
      "35861                          0\n",
      "35862                          0\n",
      "35863                          0\n",
      "35864                          0\n",
      "35865                          0\n",
      "unpaid_principal_bal      113000\n",
      "loan_term                    360\n",
      "loan_to_value                 80\n",
      "number_of_borrowers            2\n",
      "debt_to_income_ratio          33\n",
      "borrower_credit_score        793\n",
      "insurance_percent              0\n",
      "co-borrower_credit_score     784\n",
      "insurance_type                 0\n",
      "m1                             0\n",
      "m2                             0\n",
      "m3                             0\n",
      "m4                             0\n",
      "m5                             0\n",
      "m6                             0\n",
      "m7                             0\n",
      "m8                             0\n",
      "m9                             0\n",
      "m10                            0\n",
      "m11                            0\n",
      "m12                            0\n",
      "\n",
      "[35887 rows x 1 columns]\n"
     ]
    }
   ],
   "source": [
    "print(dfdec2)"
   ]
  },
  {
   "cell_type": "code",
   "execution_count": 33,
   "metadata": {},
   "outputs": [],
   "source": [
    "dfdec2.to_csv(r'C:\\Users\\Varun Kurup\\Documents\\decisiontreesubmission.csv')"
   ]
  },
  {
   "cell_type": "code",
   "execution_count": 35,
   "metadata": {},
   "outputs": [
    {
     "data": {
      "text/plain": [
       "GaussianNB(priors=None, var_smoothing=1e-09)"
      ]
     },
     "execution_count": 35,
     "metadata": {},
     "output_type": "execute_result"
    }
   ],
   "source": [
    "from sklearn.naive_bayes import GaussianNB\n",
    "nbmodel=GaussianNB()\n",
    "nbmodel.fit(x_train,y_train)"
   ]
  },
  {
   "cell_type": "code",
   "execution_count": 37,
   "metadata": {},
   "outputs": [],
   "source": [
    "ynbhat=nbmodel.predict(x_test1)"
   ]
  },
  {
   "cell_type": "code",
   "execution_count": 38,
   "metadata": {},
   "outputs": [],
   "source": [
    "dfnb=pd.DataFrame(ynbhat)"
   ]
  },
  {
   "cell_type": "code",
   "execution_count": 39,
   "metadata": {},
   "outputs": [],
   "source": [
    "dfnboverall=pd.concat([dfnb,df2])"
   ]
  },
  {
   "cell_type": "code",
   "execution_count": 40,
   "metadata": {},
   "outputs": [
    {
     "name": "stdout",
     "output_type": "stream",
     "text": [
      "                               0\n",
      "0                              0\n",
      "1                              0\n",
      "2                              0\n",
      "3                              0\n",
      "4                              0\n",
      "5                              0\n",
      "6                              0\n",
      "7                              0\n",
      "8                              0\n",
      "9                              0\n",
      "10                             0\n",
      "11                             0\n",
      "12                             0\n",
      "13                             0\n",
      "14                             0\n",
      "15                             1\n",
      "16                             0\n",
      "17                             0\n",
      "18                             0\n",
      "19                             0\n",
      "20                             0\n",
      "21                             0\n",
      "22                             0\n",
      "23                             0\n",
      "24                             0\n",
      "25                             0\n",
      "26                             0\n",
      "27                             0\n",
      "28                             0\n",
      "29                             0\n",
      "...                          ...\n",
      "35857                          0\n",
      "35858                          0\n",
      "35859                          1\n",
      "35860                          0\n",
      "35861                          0\n",
      "35862                          0\n",
      "35863                          1\n",
      "35864                          0\n",
      "35865                          1\n",
      "unpaid_principal_bal      113000\n",
      "loan_term                    360\n",
      "loan_to_value                 80\n",
      "number_of_borrowers            2\n",
      "debt_to_income_ratio          33\n",
      "borrower_credit_score        793\n",
      "insurance_percent              0\n",
      "co-borrower_credit_score     784\n",
      "insurance_type                 0\n",
      "m1                             0\n",
      "m2                             0\n",
      "m3                             0\n",
      "m4                             0\n",
      "m5                             0\n",
      "m6                             0\n",
      "m7                             0\n",
      "m8                             0\n",
      "m9                             0\n",
      "m10                            0\n",
      "m11                            0\n",
      "m12                            0\n",
      "\n",
      "[35887 rows x 1 columns]\n"
     ]
    }
   ],
   "source": [
    "print(dfnboverall)"
   ]
  },
  {
   "cell_type": "code",
   "execution_count": 42,
   "metadata": {},
   "outputs": [],
   "source": [
    "dfnboverall.to_csv(r'C:\\Users\\Varun Kurup\\Documents\\nboverallsubmission.csv')"
   ]
  },
  {
   "cell_type": "code",
   "execution_count": 65,
   "metadata": {},
   "outputs": [],
   "source": [
    "import lightgbm as ltb"
   ]
  },
  {
   "cell_type": "code",
   "execution_count": 67,
   "metadata": {},
   "outputs": [],
   "source": [
    "modellgb=ltb.LGBMClassifier()"
   ]
  },
  {
   "cell_type": "code",
   "execution_count": 68,
   "metadata": {},
   "outputs": [
    {
     "data": {
      "text/plain": [
       "LGBMClassifier(boosting_type='gbdt', class_weight=None, colsample_bytree=1.0,\n",
       "        importance_type='split', learning_rate=0.1, max_depth=-1,\n",
       "        min_child_samples=20, min_child_weight=0.001, min_split_gain=0.0,\n",
       "        n_estimators=100, n_jobs=-1, num_leaves=31, objective=None,\n",
       "        random_state=None, reg_alpha=0.0, reg_lambda=0.0, silent=True,\n",
       "        subsample=1.0, subsample_for_bin=200000, subsample_freq=0)"
      ]
     },
     "execution_count": 68,
     "metadata": {},
     "output_type": "execute_result"
    }
   ],
   "source": [
    "modellgb.fit(x_train,y_train)"
   ]
  },
  {
   "cell_type": "code",
   "execution_count": 69,
   "metadata": {},
   "outputs": [],
   "source": [
    "yhat34=modellgb.predict(x_test1)"
   ]
  },
  {
   "cell_type": "code",
   "execution_count": 70,
   "metadata": {},
   "outputs": [],
   "source": [
    "dflgbm=pd.DataFrame(yhat34)"
   ]
  },
  {
   "cell_type": "code",
   "execution_count": 72,
   "metadata": {},
   "outputs": [],
   "source": [
    "dflgbmoverall=pd.concat([dflgbm,df2])"
   ]
  },
  {
   "cell_type": "code",
   "execution_count": 74,
   "metadata": {},
   "outputs": [
    {
     "name": "stdout",
     "output_type": "stream",
     "text": [
      "                               0\n",
      "0                              0\n",
      "1                              0\n",
      "2                              0\n",
      "3                              0\n",
      "4                              0\n",
      "5                              0\n",
      "6                              0\n",
      "7                              0\n",
      "8                              0\n",
      "9                              0\n",
      "10                             0\n",
      "11                             0\n",
      "12                             0\n",
      "13                             0\n",
      "14                             0\n",
      "15                             1\n",
      "16                             0\n",
      "17                             0\n",
      "18                             0\n",
      "19                             0\n",
      "20                             0\n",
      "21                             0\n",
      "22                             0\n",
      "23                             0\n",
      "24                             0\n",
      "25                             0\n",
      "26                             0\n",
      "27                             0\n",
      "28                             0\n",
      "29                             0\n",
      "...                          ...\n",
      "35857                          0\n",
      "35858                          0\n",
      "35859                          0\n",
      "35860                          0\n",
      "35861                          0\n",
      "35862                          0\n",
      "35863                          0\n",
      "35864                          0\n",
      "35865                          0\n",
      "unpaid_principal_bal      113000\n",
      "loan_term                    360\n",
      "loan_to_value                 80\n",
      "number_of_borrowers            2\n",
      "debt_to_income_ratio          33\n",
      "borrower_credit_score        793\n",
      "insurance_percent              0\n",
      "co-borrower_credit_score     784\n",
      "insurance_type                 0\n",
      "m1                             0\n",
      "m2                             0\n",
      "m3                             0\n",
      "m4                             0\n",
      "m5                             0\n",
      "m6                             0\n",
      "m7                             0\n",
      "m8                             0\n",
      "m9                             0\n",
      "m10                            0\n",
      "m11                            0\n",
      "m12                            0\n",
      "\n",
      "[35887 rows x 1 columns]\n"
     ]
    }
   ],
   "source": [
    "print(dflgbmoverall)"
   ]
  },
  {
   "cell_type": "code",
   "execution_count": 75,
   "metadata": {},
   "outputs": [],
   "source": [
    "dflgbmoverall.to_csv(r'C:\\Users\\Varun Kurup\\Documents\\lgbmoverallsubmission.csv')"
   ]
  },
  {
   "cell_type": "code",
   "execution_count": 76,
   "metadata": {},
   "outputs": [
    {
     "data": {
      "text/plain": [
       "AdaBoostClassifier(algorithm='SAMME.R',\n",
       "          base_estimator=DecisionTreeClassifier(class_weight=None, criterion='gini', max_depth=5,\n",
       "            max_features=None, max_leaf_nodes=None,\n",
       "            min_impurity_decrease=0.0, min_impurity_split=None,\n",
       "            min_samples_leaf=1, min_samples_split=2,\n",
       "            min_weight_fraction_leaf=0.0, presort=False, random_state=None,\n",
       "            splitter='best'),\n",
       "          learning_rate=1.0, n_estimators=200, random_state=None)"
      ]
     },
     "execution_count": 76,
     "metadata": {},
     "output_type": "execute_result"
    }
   ],
   "source": [
    "from sklearn.ensemble import AdaBoostClassifier\n",
    "classifier=AdaBoostClassifier(DecisionTreeClassifier(max_depth=5),n_estimators=200)\n",
    "classifier.fit(x_train,y_train)"
   ]
  },
  {
   "cell_type": "code",
   "execution_count": 77,
   "metadata": {},
   "outputs": [],
   "source": [
    "yhat45=classifier.predict(x_test1)"
   ]
  },
  {
   "cell_type": "code",
   "execution_count": 78,
   "metadata": {},
   "outputs": [],
   "source": [
    "dfadaboost=pd.DataFrame(yhat45)"
   ]
  },
  {
   "cell_type": "code",
   "execution_count": 79,
   "metadata": {},
   "outputs": [],
   "source": [
    "dfadaboostoverall=pd.concat([dfadaboost,df2])"
   ]
  },
  {
   "cell_type": "code",
   "execution_count": 80,
   "metadata": {},
   "outputs": [
    {
     "name": "stdout",
     "output_type": "stream",
     "text": [
      "                               0\n",
      "0                              0\n",
      "1                              0\n",
      "2                              0\n",
      "3                              0\n",
      "4                              0\n",
      "5                              0\n",
      "6                              0\n",
      "7                              0\n",
      "8                              0\n",
      "9                              0\n",
      "10                             0\n",
      "11                             0\n",
      "12                             0\n",
      "13                             0\n",
      "14                             0\n",
      "15                             1\n",
      "16                             0\n",
      "17                             0\n",
      "18                             0\n",
      "19                             0\n",
      "20                             0\n",
      "21                             0\n",
      "22                             0\n",
      "23                             0\n",
      "24                             0\n",
      "25                             0\n",
      "26                             0\n",
      "27                             0\n",
      "28                             0\n",
      "29                             0\n",
      "...                          ...\n",
      "35857                          0\n",
      "35858                          0\n",
      "35859                          0\n",
      "35860                          0\n",
      "35861                          0\n",
      "35862                          0\n",
      "35863                          0\n",
      "35864                          0\n",
      "35865                          0\n",
      "unpaid_principal_bal      113000\n",
      "loan_term                    360\n",
      "loan_to_value                 80\n",
      "number_of_borrowers            2\n",
      "debt_to_income_ratio          33\n",
      "borrower_credit_score        793\n",
      "insurance_percent              0\n",
      "co-borrower_credit_score     784\n",
      "insurance_type                 0\n",
      "m1                             0\n",
      "m2                             0\n",
      "m3                             0\n",
      "m4                             0\n",
      "m5                             0\n",
      "m6                             0\n",
      "m7                             0\n",
      "m8                             0\n",
      "m9                             0\n",
      "m10                            0\n",
      "m11                            0\n",
      "m12                            0\n",
      "\n",
      "[35887 rows x 1 columns]\n"
     ]
    }
   ],
   "source": [
    "print(dfadaboostoverall)"
   ]
  },
  {
   "cell_type": "code",
   "execution_count": 81,
   "metadata": {},
   "outputs": [],
   "source": [
    "dfadaboostoverall.to_csv(r'C:\\Users\\Varun Kurup\\Documents\\adaboostoverallsubmission.csv')"
   ]
  },
  {
   "cell_type": "code",
   "execution_count": 85,
   "metadata": {},
   "outputs": [
    {
     "data": {
      "text/plain": [
       "MLPClassifier(activation='relu', alpha=1e-05, batch_size='auto', beta_1=0.9,\n",
       "       beta_2=0.999, early_stopping=False, epsilon=1e-08,\n",
       "       hidden_layer_sizes=(5, 2), learning_rate='constant',\n",
       "       learning_rate_init=0.001, max_iter=200, momentum=0.9,\n",
       "       n_iter_no_change=10, nesterovs_momentum=True, power_t=0.5,\n",
       "       random_state=1, shuffle=True, solver='lbfgs', tol=0.0001,\n",
       "       validation_fraction=0.1, verbose=False, warm_start=False)"
      ]
     },
     "execution_count": 85,
     "metadata": {},
     "output_type": "execute_result"
    }
   ],
   "source": [
    "from sklearn.neural_network import MLPClassifier\n",
    "clf_NN=MLPClassifier(solver='lbfgs',alpha=1e-5,hidden_layer_sizes=(5,2),random_state=1)\n",
    "clf_NN.fit(x_train,y_train)"
   ]
  },
  {
   "cell_type": "code",
   "execution_count": 86,
   "metadata": {},
   "outputs": [],
   "source": [
    "yhatml=clf_NN.predict(x_test1)"
   ]
  },
  {
   "cell_type": "code",
   "execution_count": 87,
   "metadata": {},
   "outputs": [],
   "source": [
    "dmlp=pd.DataFrame(yhatml)"
   ]
  },
  {
   "cell_type": "code",
   "execution_count": 88,
   "metadata": {},
   "outputs": [
    {
     "name": "stdout",
     "output_type": "stream",
     "text": [
      "       0\n",
      "0      0\n",
      "1      0\n",
      "2      0\n",
      "3      0\n",
      "4      0\n",
      "5      0\n",
      "6      0\n",
      "7      0\n",
      "8      0\n",
      "9      0\n",
      "10     0\n",
      "11     0\n",
      "12     0\n",
      "13     0\n",
      "14     0\n",
      "15     0\n",
      "16     0\n",
      "17     0\n",
      "18     0\n",
      "19     0\n",
      "20     0\n",
      "21     0\n",
      "22     0\n",
      "23     0\n",
      "24     0\n",
      "25     0\n",
      "26     0\n",
      "27     0\n",
      "28     0\n",
      "29     0\n",
      "...   ..\n",
      "35836  0\n",
      "35837  0\n",
      "35838  0\n",
      "35839  0\n",
      "35840  0\n",
      "35841  0\n",
      "35842  0\n",
      "35843  0\n",
      "35844  0\n",
      "35845  0\n",
      "35846  0\n",
      "35847  0\n",
      "35848  0\n",
      "35849  0\n",
      "35850  0\n",
      "35851  0\n",
      "35852  0\n",
      "35853  0\n",
      "35854  0\n",
      "35855  0\n",
      "35856  0\n",
      "35857  0\n",
      "35858  0\n",
      "35859  0\n",
      "35860  0\n",
      "35861  0\n",
      "35862  0\n",
      "35863  0\n",
      "35864  0\n",
      "35865  0\n",
      "\n",
      "[35866 rows x 1 columns]\n"
     ]
    }
   ],
   "source": [
    "print(dmlp)"
   ]
  },
  {
   "cell_type": "code",
   "execution_count": 90,
   "metadata": {},
   "outputs": [],
   "source": [
    "dmlp.to_csv(r'C:\\Users\\Varun Kurup\\Documents\\mlpoverallsubmission.csv')"
   ]
  },
  {
   "cell_type": "code",
   "execution_count": null,
   "metadata": {},
   "outputs": [],
   "source": []
  }
 ],
 "metadata": {
  "kernelspec": {
   "display_name": "Python 3",
   "language": "python",
   "name": "python3"
  },
  "language_info": {
   "codemirror_mode": {
    "name": "ipython",
    "version": 3
   },
   "file_extension": ".py",
   "mimetype": "text/x-python",
   "name": "python",
   "nbconvert_exporter": "python",
   "pygments_lexer": "ipython3",
   "version": "3.7.3"
  }
 },
 "nbformat": 4,
 "nbformat_minor": 2
}
